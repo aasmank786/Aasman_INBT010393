{
 "cells": [
  {
   "cell_type": "code",
   "execution_count": 1,
   "id": "a9e16143",
   "metadata": {},
   "outputs": [
    {
     "name": "stderr",
     "output_type": "stream",
     "text": [
      "[nltk_data] Error loading punkt: <urlopen error [Errno 11001]\n",
      "[nltk_data]     getaddrinfo failed>\n"
     ]
    },
    {
     "data": {
      "text/plain": [
       "False"
      ]
     },
     "execution_count": 1,
     "metadata": {},
     "output_type": "execute_result"
    }
   ],
   "source": [
    "import nltk\n",
    "nltk.download('punkt')"
   ]
  },
  {
   "cell_type": "code",
   "execution_count": 2,
   "id": "9e034db0",
   "metadata": {},
   "outputs": [],
   "source": [
    "import pandas as pd\n",
    "data=pd.read_csv('Data_1.csv')"
   ]
  },
  {
   "cell_type": "code",
   "execution_count": 3,
   "id": "930efe48",
   "metadata": {},
   "outputs": [
    {
     "data": {
      "text/plain": [
       "(529635, 15)"
      ]
     },
     "execution_count": 3,
     "metadata": {},
     "output_type": "execute_result"
    }
   ],
   "source": [
    "data.shape"
   ]
  },
  {
   "cell_type": "code",
   "execution_count": 4,
   "id": "688c6f88",
   "metadata": {},
   "outputs": [
    {
     "data": {
      "text/html": [
       "<div>\n",
       "<style scoped>\n",
       "    .dataframe tbody tr th:only-of-type {\n",
       "        vertical-align: middle;\n",
       "    }\n",
       "\n",
       "    .dataframe tbody tr th {\n",
       "        vertical-align: top;\n",
       "    }\n",
       "\n",
       "    .dataframe thead th {\n",
       "        text-align: right;\n",
       "    }\n",
       "</style>\n",
       "<table border=\"1\" class=\"dataframe\">\n",
       "  <thead>\n",
       "    <tr style=\"text-align: right;\">\n",
       "      <th></th>\n",
       "      <th>InvoiceNo</th>\n",
       "      <th>Description</th>\n",
       "      <th>Quantity</th>\n",
       "      <th>InvoiceDate</th>\n",
       "      <th>UnitPrice</th>\n",
       "      <th>CustomerID</th>\n",
       "      <th>Country</th>\n",
       "      <th>TotalPrice</th>\n",
       "      <th>Recency</th>\n",
       "      <th>Monetory</th>\n",
       "    </tr>\n",
       "  </thead>\n",
       "  <tbody>\n",
       "    <tr>\n",
       "      <th>0</th>\n",
       "      <td>536365</td>\n",
       "      <td>WHITE HANGING HEART T-LIGHT HOLDER</td>\n",
       "      <td>6</td>\n",
       "      <td>2010-12-01 08:26:00</td>\n",
       "      <td>2.55</td>\n",
       "      <td>17850.0</td>\n",
       "      <td>United Kingdom</td>\n",
       "      <td>15.30</td>\n",
       "      <td>373</td>\n",
       "      <td>15.30</td>\n",
       "    </tr>\n",
       "    <tr>\n",
       "      <th>1</th>\n",
       "      <td>536365</td>\n",
       "      <td>WHITE METAL LANTERN</td>\n",
       "      <td>6</td>\n",
       "      <td>2010-12-01 08:26:00</td>\n",
       "      <td>3.39</td>\n",
       "      <td>17850.0</td>\n",
       "      <td>United Kingdom</td>\n",
       "      <td>20.34</td>\n",
       "      <td>373</td>\n",
       "      <td>20.34</td>\n",
       "    </tr>\n",
       "    <tr>\n",
       "      <th>2</th>\n",
       "      <td>536365</td>\n",
       "      <td>CREAM CUPID HEARTS COAT HANGER</td>\n",
       "      <td>8</td>\n",
       "      <td>2010-12-01 08:26:00</td>\n",
       "      <td>2.75</td>\n",
       "      <td>17850.0</td>\n",
       "      <td>United Kingdom</td>\n",
       "      <td>22.00</td>\n",
       "      <td>373</td>\n",
       "      <td>22.00</td>\n",
       "    </tr>\n",
       "    <tr>\n",
       "      <th>3</th>\n",
       "      <td>536365</td>\n",
       "      <td>KNITTED UNION FLAG HOT WATER BOTTLE</td>\n",
       "      <td>6</td>\n",
       "      <td>2010-12-01 08:26:00</td>\n",
       "      <td>3.39</td>\n",
       "      <td>17850.0</td>\n",
       "      <td>United Kingdom</td>\n",
       "      <td>20.34</td>\n",
       "      <td>373</td>\n",
       "      <td>20.34</td>\n",
       "    </tr>\n",
       "    <tr>\n",
       "      <th>4</th>\n",
       "      <td>536365</td>\n",
       "      <td>RED WOOLLY HOTTIE WHITE HEART.</td>\n",
       "      <td>6</td>\n",
       "      <td>2010-12-01 08:26:00</td>\n",
       "      <td>3.39</td>\n",
       "      <td>17850.0</td>\n",
       "      <td>United Kingdom</td>\n",
       "      <td>20.34</td>\n",
       "      <td>373</td>\n",
       "      <td>20.34</td>\n",
       "    </tr>\n",
       "    <tr>\n",
       "      <th>...</th>\n",
       "      <td>...</td>\n",
       "      <td>...</td>\n",
       "      <td>...</td>\n",
       "      <td>...</td>\n",
       "      <td>...</td>\n",
       "      <td>...</td>\n",
       "      <td>...</td>\n",
       "      <td>...</td>\n",
       "      <td>...</td>\n",
       "      <td>...</td>\n",
       "    </tr>\n",
       "    <tr>\n",
       "      <th>529630</th>\n",
       "      <td>581587</td>\n",
       "      <td>PACK OF 20 SPACEBOY NAPKINS</td>\n",
       "      <td>12</td>\n",
       "      <td>2011-12-09 12:50:00</td>\n",
       "      <td>0.85</td>\n",
       "      <td>12680.0</td>\n",
       "      <td>France</td>\n",
       "      <td>10.20</td>\n",
       "      <td>0</td>\n",
       "      <td>10.20</td>\n",
       "    </tr>\n",
       "    <tr>\n",
       "      <th>529631</th>\n",
       "      <td>581587</td>\n",
       "      <td>CHILDREN'S APRON DOLLY GIRL</td>\n",
       "      <td>6</td>\n",
       "      <td>2011-12-09 12:50:00</td>\n",
       "      <td>2.10</td>\n",
       "      <td>12680.0</td>\n",
       "      <td>France</td>\n",
       "      <td>12.60</td>\n",
       "      <td>0</td>\n",
       "      <td>12.60</td>\n",
       "    </tr>\n",
       "    <tr>\n",
       "      <th>529632</th>\n",
       "      <td>581587</td>\n",
       "      <td>CHILDRENS CUTLERY DOLLY GIRL</td>\n",
       "      <td>4</td>\n",
       "      <td>2011-12-09 12:50:00</td>\n",
       "      <td>4.15</td>\n",
       "      <td>12680.0</td>\n",
       "      <td>France</td>\n",
       "      <td>16.60</td>\n",
       "      <td>0</td>\n",
       "      <td>16.60</td>\n",
       "    </tr>\n",
       "    <tr>\n",
       "      <th>529633</th>\n",
       "      <td>581587</td>\n",
       "      <td>CHILDRENS CUTLERY CIRCUS PARADE</td>\n",
       "      <td>4</td>\n",
       "      <td>2011-12-09 12:50:00</td>\n",
       "      <td>4.15</td>\n",
       "      <td>12680.0</td>\n",
       "      <td>France</td>\n",
       "      <td>16.60</td>\n",
       "      <td>0</td>\n",
       "      <td>16.60</td>\n",
       "    </tr>\n",
       "    <tr>\n",
       "      <th>529634</th>\n",
       "      <td>581587</td>\n",
       "      <td>BAKING SET 9 PIECE RETROSPOT</td>\n",
       "      <td>3</td>\n",
       "      <td>2011-12-09 12:50:00</td>\n",
       "      <td>4.95</td>\n",
       "      <td>12680.0</td>\n",
       "      <td>France</td>\n",
       "      <td>14.85</td>\n",
       "      <td>0</td>\n",
       "      <td>14.85</td>\n",
       "    </tr>\n",
       "  </tbody>\n",
       "</table>\n",
       "<p>529635 rows × 10 columns</p>\n",
       "</div>"
      ],
      "text/plain": [
       "        InvoiceNo                          Description  Quantity  \\\n",
       "0          536365   WHITE HANGING HEART T-LIGHT HOLDER         6   \n",
       "1          536365                  WHITE METAL LANTERN         6   \n",
       "2          536365       CREAM CUPID HEARTS COAT HANGER         8   \n",
       "3          536365  KNITTED UNION FLAG HOT WATER BOTTLE         6   \n",
       "4          536365       RED WOOLLY HOTTIE WHITE HEART.         6   \n",
       "...           ...                                  ...       ...   \n",
       "529630     581587          PACK OF 20 SPACEBOY NAPKINS        12   \n",
       "529631     581587         CHILDREN'S APRON DOLLY GIRL          6   \n",
       "529632     581587        CHILDRENS CUTLERY DOLLY GIRL          4   \n",
       "529633     581587      CHILDRENS CUTLERY CIRCUS PARADE         4   \n",
       "529634     581587        BAKING SET 9 PIECE RETROSPOT          3   \n",
       "\n",
       "                InvoiceDate  UnitPrice  CustomerID         Country  \\\n",
       "0       2010-12-01 08:26:00       2.55     17850.0  United Kingdom   \n",
       "1       2010-12-01 08:26:00       3.39     17850.0  United Kingdom   \n",
       "2       2010-12-01 08:26:00       2.75     17850.0  United Kingdom   \n",
       "3       2010-12-01 08:26:00       3.39     17850.0  United Kingdom   \n",
       "4       2010-12-01 08:26:00       3.39     17850.0  United Kingdom   \n",
       "...                     ...        ...         ...             ...   \n",
       "529630  2011-12-09 12:50:00       0.85     12680.0          France   \n",
       "529631  2011-12-09 12:50:00       2.10     12680.0          France   \n",
       "529632  2011-12-09 12:50:00       4.15     12680.0          France   \n",
       "529633  2011-12-09 12:50:00       4.15     12680.0          France   \n",
       "529634  2011-12-09 12:50:00       4.95     12680.0          France   \n",
       "\n",
       "        TotalPrice  Recency  Monetory  \n",
       "0            15.30      373     15.30  \n",
       "1            20.34      373     20.34  \n",
       "2            22.00      373     22.00  \n",
       "3            20.34      373     20.34  \n",
       "4            20.34      373     20.34  \n",
       "...            ...      ...       ...  \n",
       "529630       10.20        0     10.20  \n",
       "529631       12.60        0     12.60  \n",
       "529632       16.60        0     16.60  \n",
       "529633       16.60        0     16.60  \n",
       "529634       14.85        0     14.85  \n",
       "\n",
       "[529635 rows x 10 columns]"
      ]
     },
     "execution_count": 4,
     "metadata": {},
     "output_type": "execute_result"
    }
   ],
   "source": [
    "Data=data.drop(['StockCode','Day','DateYMD', 'DateYM', 'DayCode'],axis=1)\n",
    "Data"
   ]
  },
  {
   "cell_type": "code",
   "execution_count": 5,
   "id": "a06da062",
   "metadata": {},
   "outputs": [],
   "source": [
    "import pandas as pd\n",
    "import nltk\n",
    "from nltk.tokenize import word_tokenize\n",
    "Data['Description'] = Data['Description'].apply(lambda x: x.lower())  \n",
    "Data['Description'] = Data['Description'].apply(lambda x: word_tokenize(x))"
   ]
  },
  {
   "cell_type": "code",
   "execution_count": 6,
   "id": "9b7128f7",
   "metadata": {},
   "outputs": [
    {
     "data": {
      "text/html": [
       "<div>\n",
       "<style scoped>\n",
       "    .dataframe tbody tr th:only-of-type {\n",
       "        vertical-align: middle;\n",
       "    }\n",
       "\n",
       "    .dataframe tbody tr th {\n",
       "        vertical-align: top;\n",
       "    }\n",
       "\n",
       "    .dataframe thead th {\n",
       "        text-align: right;\n",
       "    }\n",
       "</style>\n",
       "<table border=\"1\" class=\"dataframe\">\n",
       "  <thead>\n",
       "    <tr style=\"text-align: right;\">\n",
       "      <th></th>\n",
       "      <th>InvoiceNo</th>\n",
       "      <th>Description</th>\n",
       "      <th>Quantity</th>\n",
       "      <th>InvoiceDate</th>\n",
       "      <th>UnitPrice</th>\n",
       "      <th>CustomerID</th>\n",
       "      <th>Country</th>\n",
       "      <th>TotalPrice</th>\n",
       "      <th>Recency</th>\n",
       "      <th>Monetory</th>\n",
       "    </tr>\n",
       "  </thead>\n",
       "  <tbody>\n",
       "    <tr>\n",
       "      <th>0</th>\n",
       "      <td>536365</td>\n",
       "      <td>[white, hanging, heart, t-light, holder]</td>\n",
       "      <td>6</td>\n",
       "      <td>2010-12-01 08:26:00</td>\n",
       "      <td>2.55</td>\n",
       "      <td>17850.0</td>\n",
       "      <td>United Kingdom</td>\n",
       "      <td>15.30</td>\n",
       "      <td>373</td>\n",
       "      <td>15.30</td>\n",
       "    </tr>\n",
       "    <tr>\n",
       "      <th>1</th>\n",
       "      <td>536365</td>\n",
       "      <td>[white, metal, lantern]</td>\n",
       "      <td>6</td>\n",
       "      <td>2010-12-01 08:26:00</td>\n",
       "      <td>3.39</td>\n",
       "      <td>17850.0</td>\n",
       "      <td>United Kingdom</td>\n",
       "      <td>20.34</td>\n",
       "      <td>373</td>\n",
       "      <td>20.34</td>\n",
       "    </tr>\n",
       "    <tr>\n",
       "      <th>2</th>\n",
       "      <td>536365</td>\n",
       "      <td>[cream, cupid, hearts, coat, hanger]</td>\n",
       "      <td>8</td>\n",
       "      <td>2010-12-01 08:26:00</td>\n",
       "      <td>2.75</td>\n",
       "      <td>17850.0</td>\n",
       "      <td>United Kingdom</td>\n",
       "      <td>22.00</td>\n",
       "      <td>373</td>\n",
       "      <td>22.00</td>\n",
       "    </tr>\n",
       "    <tr>\n",
       "      <th>3</th>\n",
       "      <td>536365</td>\n",
       "      <td>[knitted, union, flag, hot, water, bottle]</td>\n",
       "      <td>6</td>\n",
       "      <td>2010-12-01 08:26:00</td>\n",
       "      <td>3.39</td>\n",
       "      <td>17850.0</td>\n",
       "      <td>United Kingdom</td>\n",
       "      <td>20.34</td>\n",
       "      <td>373</td>\n",
       "      <td>20.34</td>\n",
       "    </tr>\n",
       "    <tr>\n",
       "      <th>4</th>\n",
       "      <td>536365</td>\n",
       "      <td>[red, woolly, hottie, white, heart, .]</td>\n",
       "      <td>6</td>\n",
       "      <td>2010-12-01 08:26:00</td>\n",
       "      <td>3.39</td>\n",
       "      <td>17850.0</td>\n",
       "      <td>United Kingdom</td>\n",
       "      <td>20.34</td>\n",
       "      <td>373</td>\n",
       "      <td>20.34</td>\n",
       "    </tr>\n",
       "    <tr>\n",
       "      <th>...</th>\n",
       "      <td>...</td>\n",
       "      <td>...</td>\n",
       "      <td>...</td>\n",
       "      <td>...</td>\n",
       "      <td>...</td>\n",
       "      <td>...</td>\n",
       "      <td>...</td>\n",
       "      <td>...</td>\n",
       "      <td>...</td>\n",
       "      <td>...</td>\n",
       "    </tr>\n",
       "    <tr>\n",
       "      <th>529630</th>\n",
       "      <td>581587</td>\n",
       "      <td>[pack, of, 20, spaceboy, napkins]</td>\n",
       "      <td>12</td>\n",
       "      <td>2011-12-09 12:50:00</td>\n",
       "      <td>0.85</td>\n",
       "      <td>12680.0</td>\n",
       "      <td>France</td>\n",
       "      <td>10.20</td>\n",
       "      <td>0</td>\n",
       "      <td>10.20</td>\n",
       "    </tr>\n",
       "    <tr>\n",
       "      <th>529631</th>\n",
       "      <td>581587</td>\n",
       "      <td>[children, 's, apron, dolly, girl]</td>\n",
       "      <td>6</td>\n",
       "      <td>2011-12-09 12:50:00</td>\n",
       "      <td>2.10</td>\n",
       "      <td>12680.0</td>\n",
       "      <td>France</td>\n",
       "      <td>12.60</td>\n",
       "      <td>0</td>\n",
       "      <td>12.60</td>\n",
       "    </tr>\n",
       "    <tr>\n",
       "      <th>529632</th>\n",
       "      <td>581587</td>\n",
       "      <td>[childrens, cutlery, dolly, girl]</td>\n",
       "      <td>4</td>\n",
       "      <td>2011-12-09 12:50:00</td>\n",
       "      <td>4.15</td>\n",
       "      <td>12680.0</td>\n",
       "      <td>France</td>\n",
       "      <td>16.60</td>\n",
       "      <td>0</td>\n",
       "      <td>16.60</td>\n",
       "    </tr>\n",
       "    <tr>\n",
       "      <th>529633</th>\n",
       "      <td>581587</td>\n",
       "      <td>[childrens, cutlery, circus, parade]</td>\n",
       "      <td>4</td>\n",
       "      <td>2011-12-09 12:50:00</td>\n",
       "      <td>4.15</td>\n",
       "      <td>12680.0</td>\n",
       "      <td>France</td>\n",
       "      <td>16.60</td>\n",
       "      <td>0</td>\n",
       "      <td>16.60</td>\n",
       "    </tr>\n",
       "    <tr>\n",
       "      <th>529634</th>\n",
       "      <td>581587</td>\n",
       "      <td>[baking, set, 9, piece, retrospot]</td>\n",
       "      <td>3</td>\n",
       "      <td>2011-12-09 12:50:00</td>\n",
       "      <td>4.95</td>\n",
       "      <td>12680.0</td>\n",
       "      <td>France</td>\n",
       "      <td>14.85</td>\n",
       "      <td>0</td>\n",
       "      <td>14.85</td>\n",
       "    </tr>\n",
       "  </tbody>\n",
       "</table>\n",
       "<p>529635 rows × 10 columns</p>\n",
       "</div>"
      ],
      "text/plain": [
       "        InvoiceNo                                 Description  Quantity  \\\n",
       "0          536365    [white, hanging, heart, t-light, holder]         6   \n",
       "1          536365                     [white, metal, lantern]         6   \n",
       "2          536365        [cream, cupid, hearts, coat, hanger]         8   \n",
       "3          536365  [knitted, union, flag, hot, water, bottle]         6   \n",
       "4          536365      [red, woolly, hottie, white, heart, .]         6   \n",
       "...           ...                                         ...       ...   \n",
       "529630     581587           [pack, of, 20, spaceboy, napkins]        12   \n",
       "529631     581587          [children, 's, apron, dolly, girl]         6   \n",
       "529632     581587           [childrens, cutlery, dolly, girl]         4   \n",
       "529633     581587        [childrens, cutlery, circus, parade]         4   \n",
       "529634     581587          [baking, set, 9, piece, retrospot]         3   \n",
       "\n",
       "                InvoiceDate  UnitPrice  CustomerID         Country  \\\n",
       "0       2010-12-01 08:26:00       2.55     17850.0  United Kingdom   \n",
       "1       2010-12-01 08:26:00       3.39     17850.0  United Kingdom   \n",
       "2       2010-12-01 08:26:00       2.75     17850.0  United Kingdom   \n",
       "3       2010-12-01 08:26:00       3.39     17850.0  United Kingdom   \n",
       "4       2010-12-01 08:26:00       3.39     17850.0  United Kingdom   \n",
       "...                     ...        ...         ...             ...   \n",
       "529630  2011-12-09 12:50:00       0.85     12680.0          France   \n",
       "529631  2011-12-09 12:50:00       2.10     12680.0          France   \n",
       "529632  2011-12-09 12:50:00       4.15     12680.0          France   \n",
       "529633  2011-12-09 12:50:00       4.15     12680.0          France   \n",
       "529634  2011-12-09 12:50:00       4.95     12680.0          France   \n",
       "\n",
       "        TotalPrice  Recency  Monetory  \n",
       "0            15.30      373     15.30  \n",
       "1            20.34      373     20.34  \n",
       "2            22.00      373     22.00  \n",
       "3            20.34      373     20.34  \n",
       "4            20.34      373     20.34  \n",
       "...            ...      ...       ...  \n",
       "529630       10.20        0     10.20  \n",
       "529631       12.60        0     12.60  \n",
       "529632       16.60        0     16.60  \n",
       "529633       16.60        0     16.60  \n",
       "529634       14.85        0     14.85  \n",
       "\n",
       "[529635 rows x 10 columns]"
      ]
     },
     "metadata": {},
     "output_type": "display_data"
    }
   ],
   "source": [
    "display(Data)"
   ]
  },
  {
   "cell_type": "code",
   "execution_count": 7,
   "id": "961b214a",
   "metadata": {},
   "outputs": [],
   "source": [
    "import os\n",
    "os.environ[\"NLTK_DATA\"] = \"https://nltk.org/nltk_data/\""
   ]
  },
  {
   "cell_type": "code",
   "execution_count": 8,
   "id": "e7763e47",
   "metadata": {},
   "outputs": [],
   "source": [
    "import re\n",
    "from nltk.corpus import stopwords\n",
    "from nltk.stem import PorterStemmer"
   ]
  },
  {
   "cell_type": "code",
   "execution_count": 9,
   "id": "a224aaa9",
   "metadata": {},
   "outputs": [],
   "source": [
    "Data['Description'] = Data['Description'].apply(lambda x: [re.sub(r'[^a-zA-Z]', '', word) for word in x])"
   ]
  },
  {
   "cell_type": "code",
   "execution_count": 10,
   "id": "ea348a94",
   "metadata": {},
   "outputs": [
    {
     "name": "stderr",
     "output_type": "stream",
     "text": [
      "[nltk_data] Error loading stopwords: <urlopen error [Errno 11001]\n",
      "[nltk_data]     getaddrinfo failed>\n"
     ]
    },
    {
     "data": {
      "text/plain": [
       "False"
      ]
     },
     "execution_count": 10,
     "metadata": {},
     "output_type": "execute_result"
    }
   ],
   "source": [
    "import nltk\n",
    "nltk.download('stopwords')"
   ]
  },
  {
   "cell_type": "code",
   "execution_count": 11,
   "id": "476a09dc",
   "metadata": {},
   "outputs": [],
   "source": [
    "stop_words = set(stopwords.words('english'))\n",
    "Data['Description'] = Data['Description'].apply(lambda x: [word for word in x if word not in stop_words])"
   ]
  },
  {
   "cell_type": "code",
   "execution_count": 12,
   "id": "afeede1e",
   "metadata": {},
   "outputs": [],
   "source": [
    "stemmer = PorterStemmer()\n",
    "Data['Description'] = Data['Description'].apply(lambda x: [stemmer.stem(word) for word in x])"
   ]
  },
  {
   "cell_type": "code",
   "execution_count": 13,
   "id": "30cfc833",
   "metadata": {},
   "outputs": [],
   "source": [
    "Data['Description'] = Data['Description'].apply(lambda x: ' '.join(x))"
   ]
  },
  {
   "cell_type": "code",
   "execution_count": 14,
   "id": "f1be770d",
   "metadata": {},
   "outputs": [],
   "source": [
    "from sklearn.feature_extraction.text import CountVectorizer\n",
    "#from sklearn.tree import DecisionTreeClassifier\n",
    "from sklearn.preprocessing import LabelEncoder"
   ]
  },
  {
   "cell_type": "code",
   "execution_count": 15,
   "id": "bf8b94e0",
   "metadata": {},
   "outputs": [],
   "source": [
    "label_encoder = LabelEncoder()"
   ]
  },
  {
   "cell_type": "code",
   "execution_count": 16,
   "id": "6ce117aa",
   "metadata": {},
   "outputs": [
    {
     "data": {
      "text/html": [
       "<div>\n",
       "<style scoped>\n",
       "    .dataframe tbody tr th:only-of-type {\n",
       "        vertical-align: middle;\n",
       "    }\n",
       "\n",
       "    .dataframe tbody tr th {\n",
       "        vertical-align: top;\n",
       "    }\n",
       "\n",
       "    .dataframe thead th {\n",
       "        text-align: right;\n",
       "    }\n",
       "</style>\n",
       "<table border=\"1\" class=\"dataframe\">\n",
       "  <thead>\n",
       "    <tr style=\"text-align: right;\">\n",
       "      <th></th>\n",
       "      <th>InvoiceNo</th>\n",
       "      <th>Quantity</th>\n",
       "      <th>UnitPrice</th>\n",
       "      <th>CustomerID</th>\n",
       "      <th>TotalPrice</th>\n",
       "      <th>Recency</th>\n",
       "      <th>Monetory</th>\n",
       "      <th>invoicedate_encoded</th>\n",
       "      <th>country_encoded</th>\n",
       "      <th>description_encoded</th>\n",
       "    </tr>\n",
       "  </thead>\n",
       "  <tbody>\n",
       "    <tr>\n",
       "      <th>0</th>\n",
       "      <td>536365</td>\n",
       "      <td>6</td>\n",
       "      <td>2.55</td>\n",
       "      <td>17850.0</td>\n",
       "      <td>15.30</td>\n",
       "      <td>373</td>\n",
       "      <td>15.30</td>\n",
       "      <td>0</td>\n",
       "      <td>36</td>\n",
       "      <td>3746</td>\n",
       "    </tr>\n",
       "    <tr>\n",
       "      <th>1</th>\n",
       "      <td>536365</td>\n",
       "      <td>6</td>\n",
       "      <td>3.39</td>\n",
       "      <td>17850.0</td>\n",
       "      <td>20.34</td>\n",
       "      <td>373</td>\n",
       "      <td>20.34</td>\n",
       "      <td>0</td>\n",
       "      <td>36</td>\n",
       "      <td>3755</td>\n",
       "    </tr>\n",
       "    <tr>\n",
       "      <th>2</th>\n",
       "      <td>536365</td>\n",
       "      <td>8</td>\n",
       "      <td>2.75</td>\n",
       "      <td>17850.0</td>\n",
       "      <td>22.00</td>\n",
       "      <td>373</td>\n",
       "      <td>22.00</td>\n",
       "      <td>0</td>\n",
       "      <td>36</td>\n",
       "      <td>859</td>\n",
       "    </tr>\n",
       "    <tr>\n",
       "      <th>3</th>\n",
       "      <td>536365</td>\n",
       "      <td>6</td>\n",
       "      <td>3.39</td>\n",
       "      <td>17850.0</td>\n",
       "      <td>20.34</td>\n",
       "      <td>373</td>\n",
       "      <td>20.34</td>\n",
       "      <td>0</td>\n",
       "      <td>36</td>\n",
       "      <td>1810</td>\n",
       "    </tr>\n",
       "    <tr>\n",
       "      <th>4</th>\n",
       "      <td>536365</td>\n",
       "      <td>6</td>\n",
       "      <td>3.39</td>\n",
       "      <td>17850.0</td>\n",
       "      <td>20.34</td>\n",
       "      <td>373</td>\n",
       "      <td>20.34</td>\n",
       "      <td>0</td>\n",
       "      <td>36</td>\n",
       "      <td>2769</td>\n",
       "    </tr>\n",
       "    <tr>\n",
       "      <th>...</th>\n",
       "      <td>...</td>\n",
       "      <td>...</td>\n",
       "      <td>...</td>\n",
       "      <td>...</td>\n",
       "      <td>...</td>\n",
       "      <td>...</td>\n",
       "      <td>...</td>\n",
       "      <td>...</td>\n",
       "      <td>...</td>\n",
       "      <td>...</td>\n",
       "    </tr>\n",
       "    <tr>\n",
       "      <th>529630</th>\n",
       "      <td>581587</td>\n",
       "      <td>12</td>\n",
       "      <td>0.85</td>\n",
       "      <td>12680.0</td>\n",
       "      <td>10.20</td>\n",
       "      <td>0</td>\n",
       "      <td>10.20</td>\n",
       "      <td>18393</td>\n",
       "      <td>13</td>\n",
       "      <td>2256</td>\n",
       "    </tr>\n",
       "    <tr>\n",
       "      <th>529631</th>\n",
       "      <td>581587</td>\n",
       "      <td>6</td>\n",
       "      <td>2.10</td>\n",
       "      <td>12680.0</td>\n",
       "      <td>12.60</td>\n",
       "      <td>0</td>\n",
       "      <td>12.60</td>\n",
       "      <td>18393</td>\n",
       "      <td>13</td>\n",
       "      <td>704</td>\n",
       "    </tr>\n",
       "    <tr>\n",
       "      <th>529632</th>\n",
       "      <td>581587</td>\n",
       "      <td>4</td>\n",
       "      <td>4.15</td>\n",
       "      <td>12680.0</td>\n",
       "      <td>16.60</td>\n",
       "      <td>0</td>\n",
       "      <td>16.60</td>\n",
       "      <td>18393</td>\n",
       "      <td>13</td>\n",
       "      <td>708</td>\n",
       "    </tr>\n",
       "    <tr>\n",
       "      <th>529633</th>\n",
       "      <td>581587</td>\n",
       "      <td>4</td>\n",
       "      <td>4.15</td>\n",
       "      <td>12680.0</td>\n",
       "      <td>16.60</td>\n",
       "      <td>0</td>\n",
       "      <td>16.60</td>\n",
       "      <td>18393</td>\n",
       "      <td>13</td>\n",
       "      <td>707</td>\n",
       "    </tr>\n",
       "    <tr>\n",
       "      <th>529634</th>\n",
       "      <td>581587</td>\n",
       "      <td>3</td>\n",
       "      <td>4.95</td>\n",
       "      <td>12680.0</td>\n",
       "      <td>14.85</td>\n",
       "      <td>0</td>\n",
       "      <td>14.85</td>\n",
       "      <td>18393</td>\n",
       "      <td>13</td>\n",
       "      <td>250</td>\n",
       "    </tr>\n",
       "  </tbody>\n",
       "</table>\n",
       "<p>529635 rows × 10 columns</p>\n",
       "</div>"
      ],
      "text/plain": [
       "        InvoiceNo  Quantity  UnitPrice  CustomerID  TotalPrice  Recency  \\\n",
       "0          536365         6       2.55     17850.0       15.30      373   \n",
       "1          536365         6       3.39     17850.0       20.34      373   \n",
       "2          536365         8       2.75     17850.0       22.00      373   \n",
       "3          536365         6       3.39     17850.0       20.34      373   \n",
       "4          536365         6       3.39     17850.0       20.34      373   \n",
       "...           ...       ...        ...         ...         ...      ...   \n",
       "529630     581587        12       0.85     12680.0       10.20        0   \n",
       "529631     581587         6       2.10     12680.0       12.60        0   \n",
       "529632     581587         4       4.15     12680.0       16.60        0   \n",
       "529633     581587         4       4.15     12680.0       16.60        0   \n",
       "529634     581587         3       4.95     12680.0       14.85        0   \n",
       "\n",
       "        Monetory  invoicedate_encoded  country_encoded  description_encoded  \n",
       "0          15.30                    0               36                 3746  \n",
       "1          20.34                    0               36                 3755  \n",
       "2          22.00                    0               36                  859  \n",
       "3          20.34                    0               36                 1810  \n",
       "4          20.34                    0               36                 2769  \n",
       "...          ...                  ...              ...                  ...  \n",
       "529630     10.20                18393               13                 2256  \n",
       "529631     12.60                18393               13                  704  \n",
       "529632     16.60                18393               13                  708  \n",
       "529633     16.60                18393               13                  707  \n",
       "529634     14.85                18393               13                  250  \n",
       "\n",
       "[529635 rows x 10 columns]"
      ]
     },
     "execution_count": 16,
     "metadata": {},
     "output_type": "execute_result"
    }
   ],
   "source": [
    "Data[\"invoicedate_encoded\"] = label_encoder.fit_transform(Data[\"InvoiceDate\"])\n",
    "Data[\"country_encoded\"] = label_encoder.fit_transform(Data[\"Country\"])\n",
    "Data['description_encoded'] = label_encoder.fit_transform(Data['Description'])\n",
    "Data_1=Data.drop(['Country', 'InvoiceDate','Description'],axis=1)\n",
    "Data_1"
   ]
  },
  {
   "cell_type": "code",
   "execution_count": 17,
   "id": "198d4566",
   "metadata": {},
   "outputs": [],
   "source": [
    "from sklearn.model_selection import train_test_split\n",
    "X = Data_1.drop(\"CustomerID\", axis=1) \n",
    "y = Data_1[\"CustomerID\"]\n",
    "\n",
    "X_train, X_test, y_train, y_test = train_test_split(X, y, test_size=0.2, random_state=42)"
   ]
  },
  {
   "cell_type": "code",
   "execution_count": 18,
   "id": "4b8ecb71",
   "metadata": {},
   "outputs": [
    {
     "data": {
      "text/html": [
       "<div>\n",
       "<style scoped>\n",
       "    .dataframe tbody tr th:only-of-type {\n",
       "        vertical-align: middle;\n",
       "    }\n",
       "\n",
       "    .dataframe tbody tr th {\n",
       "        vertical-align: top;\n",
       "    }\n",
       "\n",
       "    .dataframe thead th {\n",
       "        text-align: right;\n",
       "    }\n",
       "</style>\n",
       "<table border=\"1\" class=\"dataframe\">\n",
       "  <thead>\n",
       "    <tr style=\"text-align: right;\">\n",
       "      <th></th>\n",
       "      <th>InvoiceNo</th>\n",
       "      <th>Quantity</th>\n",
       "      <th>UnitPrice</th>\n",
       "      <th>TotalPrice</th>\n",
       "      <th>Recency</th>\n",
       "      <th>Monetory</th>\n",
       "      <th>invoicedate_encoded</th>\n",
       "      <th>country_encoded</th>\n",
       "      <th>description_encoded</th>\n",
       "    </tr>\n",
       "  </thead>\n",
       "  <tbody>\n",
       "    <tr>\n",
       "      <th>0</th>\n",
       "      <td>536365</td>\n",
       "      <td>6</td>\n",
       "      <td>2.55</td>\n",
       "      <td>15.30</td>\n",
       "      <td>373</td>\n",
       "      <td>15.30</td>\n",
       "      <td>0</td>\n",
       "      <td>36</td>\n",
       "      <td>3746</td>\n",
       "    </tr>\n",
       "    <tr>\n",
       "      <th>1</th>\n",
       "      <td>536365</td>\n",
       "      <td>6</td>\n",
       "      <td>3.39</td>\n",
       "      <td>20.34</td>\n",
       "      <td>373</td>\n",
       "      <td>20.34</td>\n",
       "      <td>0</td>\n",
       "      <td>36</td>\n",
       "      <td>3755</td>\n",
       "    </tr>\n",
       "    <tr>\n",
       "      <th>2</th>\n",
       "      <td>536365</td>\n",
       "      <td>8</td>\n",
       "      <td>2.75</td>\n",
       "      <td>22.00</td>\n",
       "      <td>373</td>\n",
       "      <td>22.00</td>\n",
       "      <td>0</td>\n",
       "      <td>36</td>\n",
       "      <td>859</td>\n",
       "    </tr>\n",
       "    <tr>\n",
       "      <th>3</th>\n",
       "      <td>536365</td>\n",
       "      <td>6</td>\n",
       "      <td>3.39</td>\n",
       "      <td>20.34</td>\n",
       "      <td>373</td>\n",
       "      <td>20.34</td>\n",
       "      <td>0</td>\n",
       "      <td>36</td>\n",
       "      <td>1810</td>\n",
       "    </tr>\n",
       "    <tr>\n",
       "      <th>4</th>\n",
       "      <td>536365</td>\n",
       "      <td>6</td>\n",
       "      <td>3.39</td>\n",
       "      <td>20.34</td>\n",
       "      <td>373</td>\n",
       "      <td>20.34</td>\n",
       "      <td>0</td>\n",
       "      <td>36</td>\n",
       "      <td>2769</td>\n",
       "    </tr>\n",
       "    <tr>\n",
       "      <th>...</th>\n",
       "      <td>...</td>\n",
       "      <td>...</td>\n",
       "      <td>...</td>\n",
       "      <td>...</td>\n",
       "      <td>...</td>\n",
       "      <td>...</td>\n",
       "      <td>...</td>\n",
       "      <td>...</td>\n",
       "      <td>...</td>\n",
       "    </tr>\n",
       "    <tr>\n",
       "      <th>529630</th>\n",
       "      <td>581587</td>\n",
       "      <td>12</td>\n",
       "      <td>0.85</td>\n",
       "      <td>10.20</td>\n",
       "      <td>0</td>\n",
       "      <td>10.20</td>\n",
       "      <td>18393</td>\n",
       "      <td>13</td>\n",
       "      <td>2256</td>\n",
       "    </tr>\n",
       "    <tr>\n",
       "      <th>529631</th>\n",
       "      <td>581587</td>\n",
       "      <td>6</td>\n",
       "      <td>2.10</td>\n",
       "      <td>12.60</td>\n",
       "      <td>0</td>\n",
       "      <td>12.60</td>\n",
       "      <td>18393</td>\n",
       "      <td>13</td>\n",
       "      <td>704</td>\n",
       "    </tr>\n",
       "    <tr>\n",
       "      <th>529632</th>\n",
       "      <td>581587</td>\n",
       "      <td>4</td>\n",
       "      <td>4.15</td>\n",
       "      <td>16.60</td>\n",
       "      <td>0</td>\n",
       "      <td>16.60</td>\n",
       "      <td>18393</td>\n",
       "      <td>13</td>\n",
       "      <td>708</td>\n",
       "    </tr>\n",
       "    <tr>\n",
       "      <th>529633</th>\n",
       "      <td>581587</td>\n",
       "      <td>4</td>\n",
       "      <td>4.15</td>\n",
       "      <td>16.60</td>\n",
       "      <td>0</td>\n",
       "      <td>16.60</td>\n",
       "      <td>18393</td>\n",
       "      <td>13</td>\n",
       "      <td>707</td>\n",
       "    </tr>\n",
       "    <tr>\n",
       "      <th>529634</th>\n",
       "      <td>581587</td>\n",
       "      <td>3</td>\n",
       "      <td>4.95</td>\n",
       "      <td>14.85</td>\n",
       "      <td>0</td>\n",
       "      <td>14.85</td>\n",
       "      <td>18393</td>\n",
       "      <td>13</td>\n",
       "      <td>250</td>\n",
       "    </tr>\n",
       "  </tbody>\n",
       "</table>\n",
       "<p>529635 rows × 9 columns</p>\n",
       "</div>"
      ],
      "text/plain": [
       "        InvoiceNo  Quantity  UnitPrice  TotalPrice  Recency  Monetory  \\\n",
       "0          536365         6       2.55       15.30      373     15.30   \n",
       "1          536365         6       3.39       20.34      373     20.34   \n",
       "2          536365         8       2.75       22.00      373     22.00   \n",
       "3          536365         6       3.39       20.34      373     20.34   \n",
       "4          536365         6       3.39       20.34      373     20.34   \n",
       "...           ...       ...        ...         ...      ...       ...   \n",
       "529630     581587        12       0.85       10.20        0     10.20   \n",
       "529631     581587         6       2.10       12.60        0     12.60   \n",
       "529632     581587         4       4.15       16.60        0     16.60   \n",
       "529633     581587         4       4.15       16.60        0     16.60   \n",
       "529634     581587         3       4.95       14.85        0     14.85   \n",
       "\n",
       "        invoicedate_encoded  country_encoded  description_encoded  \n",
       "0                         0               36                 3746  \n",
       "1                         0               36                 3755  \n",
       "2                         0               36                  859  \n",
       "3                         0               36                 1810  \n",
       "4                         0               36                 2769  \n",
       "...                     ...              ...                  ...  \n",
       "529630                18393               13                 2256  \n",
       "529631                18393               13                  704  \n",
       "529632                18393               13                  708  \n",
       "529633                18393               13                  707  \n",
       "529634                18393               13                  250  \n",
       "\n",
       "[529635 rows x 9 columns]"
      ]
     },
     "execution_count": 18,
     "metadata": {},
     "output_type": "execute_result"
    }
   ],
   "source": [
    "X"
   ]
  },
  {
   "cell_type": "code",
   "execution_count": 19,
   "id": "34c55ab6",
   "metadata": {},
   "outputs": [
    {
     "data": {
      "text/plain": [
       "0         17850.0\n",
       "1         17850.0\n",
       "2         17850.0\n",
       "3         17850.0\n",
       "4         17850.0\n",
       "           ...   \n",
       "529630    12680.0\n",
       "529631    12680.0\n",
       "529632    12680.0\n",
       "529633    12680.0\n",
       "529634    12680.0\n",
       "Name: CustomerID, Length: 529635, dtype: float64"
      ]
     },
     "execution_count": 19,
     "metadata": {},
     "output_type": "execute_result"
    }
   ],
   "source": [
    "y"
   ]
  },
  {
   "cell_type": "markdown",
   "id": "1e129835",
   "metadata": {},
   "source": [
    "# Decision Tree Regressor"
   ]
  },
  {
   "cell_type": "code",
   "execution_count": 34,
   "id": "7f77711e",
   "metadata": {},
   "outputs": [],
   "source": [
    "from sklearn.metrics import accuracy_score\n",
    "from sklearn.metrics import mean_squared_error, mean_absolute_error"
   ]
  },
  {
   "cell_type": "code",
   "execution_count": 35,
   "id": "e604bda8",
   "metadata": {},
   "outputs": [
    {
     "name": "stdout",
     "output_type": "stream",
     "text": [
      "[14045.92368154 12360.42461411 11845.93031932 ... 11845.93031932\n",
      " 14045.92368154 11845.93031932]\n"
     ]
    }
   ],
   "source": [
    "dc = DecisionTreeRegressor(max_leaf_nodes = 15, random_state = 0)\n",
    "dc.fit(X_train,y_train)\n",
    "y_p = dc.predict(X_test)\n",
    "print(y_p)"
   ]
  },
  {
   "cell_type": "code",
   "execution_count": 37,
   "id": "0161c6c8",
   "metadata": {},
   "outputs": [
    {
     "name": "stdout",
     "output_type": "stream",
     "text": [
      "Mean Absolute Error: 4099.772502502098\n"
     ]
    }
   ],
   "source": [
    "mae = mean_absolute_error(y_test, y_p)\n",
    "print('Mean Absolute Error:', mae)"
   ]
  },
  {
   "cell_type": "code",
   "execution_count": 38,
   "id": "9db64800",
   "metadata": {},
   "outputs": [
    {
     "name": "stdout",
     "output_type": "stream",
     "text": [
      "Mean Squared Error: 31833796.73350375\n"
     ]
    }
   ],
   "source": [
    "mse = mean_squared_error(y_test, y_p)\n",
    "print('Mean Squared Error:', mse)"
   ]
  },
  {
   "cell_type": "code",
   "execution_count": 39,
   "id": "2597bec1",
   "metadata": {},
   "outputs": [
    {
     "name": "stdout",
     "output_type": "stream",
     "text": [
      "Root Mean Squared Error: 5642.1446927124925\n"
     ]
    }
   ],
   "source": [
    "import numpy as np\n",
    "rmse = np.sqrt(mse)\n",
    "print('Root Mean Squared Error:', rmse)"
   ]
  },
  {
   "cell_type": "code",
   "execution_count": 52,
   "id": "6333ca77",
   "metadata": {},
   "outputs": [
    {
     "data": {
      "text/plain": [
       "GridSearchCV(cv=5, estimator=DecisionTreeRegressor(),\n",
       "             param_grid={'max_depth': [3, 5, 8, 10, 12],\n",
       "                         'min_samples_leaf': [1, 5, 10, 15]},\n",
       "             scoring='neg_mean_squared_error')"
      ]
     },
     "execution_count": 52,
     "metadata": {},
     "output_type": "execute_result"
    }
   ],
   "source": [
    "from sklearn.model_selection import GridSearchCV\n",
    "param_grid = {\n",
    "    'max_depth': [3, 5, 8, 10, 12],\n",
    "    'min_samples_leaf': [1, 5, 10, 15]\n",
    "}\n",
    "grid_search = GridSearchCV(DecisionTreeRegressor(), param_grid, cv=5, scoring='neg_mean_squared_error')\n",
    "grid_search.fit(X_train, y_train)"
   ]
  },
  {
   "cell_type": "code",
   "execution_count": 53,
   "id": "23cbe0b0",
   "metadata": {},
   "outputs": [
    {
     "name": "stdout",
     "output_type": "stream",
     "text": [
      "Best Model: DecisionTreeRegressor(max_depth=12, min_samples_leaf=10)\n",
      "Best Hyperparameters: {'max_depth': 12, 'min_samples_leaf': 10}\n",
      "Best Grid Search Score (Negative MSE): -14359031.807271142\n"
     ]
    }
   ],
   "source": [
    "print(\"Best Model:\", grid_search.best_estimator_)\n",
    "print(\"Best Hyperparameters:\", grid_search.best_params_)\n",
    "print(\"Best Grid Search Score (Negative MSE):\", grid_search.best_score_)"
   ]
  },
  {
   "cell_type": "code",
   "execution_count": 55,
   "id": "d2bd5497",
   "metadata": {},
   "outputs": [
    {
     "data": {
      "text/plain": [
       "array([15274.23961244, 15180.58003   , 11366.81062802, ...,\n",
       "       15102.70956894, 14911.        ,  5049.53745743])"
      ]
     },
     "execution_count": 55,
     "metadata": {},
     "output_type": "execute_result"
    }
   ],
   "source": [
    "y_pred = grid_search.best_estimator_.predict(X_test)\n",
    "y_pred"
   ]
  },
  {
   "cell_type": "markdown",
   "id": "d3adce31",
   "metadata": {},
   "source": [
    "# Random Forest Regressor"
   ]
  },
  {
   "cell_type": "code",
   "execution_count": 56,
   "id": "e1149738",
   "metadata": {},
   "outputs": [],
   "source": [
    "from sklearn.ensemble import RandomForestRegressor\n",
    "rf_regressor = RandomForestRegressor(n_estimators=100, max_depth=5, random_state=42)"
   ]
  },
  {
   "cell_type": "code",
   "execution_count": 57,
   "id": "8fa33ad8",
   "metadata": {},
   "outputs": [
    {
     "data": {
      "text/plain": [
       "RandomForestRegressor(max_depth=5, random_state=42)"
      ]
     },
     "execution_count": 57,
     "metadata": {},
     "output_type": "execute_result"
    }
   ],
   "source": [
    "rf_regressor.fit(X_train, y_train)"
   ]
  },
  {
   "cell_type": "code",
   "execution_count": 58,
   "id": "357cac45",
   "metadata": {},
   "outputs": [],
   "source": [
    "y_pred = rf_regressor.predict(X_test)"
   ]
  },
  {
   "cell_type": "code",
   "execution_count": 59,
   "id": "2f76e5b7",
   "metadata": {},
   "outputs": [
    {
     "name": "stdout",
     "output_type": "stream",
     "text": [
      "Mean Squared Error: 31282793.51156791\n",
      "Root Mean Squared Error: 5593.102315492531\n",
      "R-squared: 0.3202940173572285\n"
     ]
    }
   ],
   "source": [
    "from sklearn.metrics import mean_squared_error, r2_score\n",
    "import numpy as np\n",
    "mse = mean_squared_error(y_test, y_pred)\n",
    "rmse = np.sqrt(mse)  # Root Mean Squared Error\n",
    "r2 = r2_score(y_test, y_pred)  # Explained variance score (R-squared)\n",
    "print(\"Mean Squared Error:\", mse)\n",
    "print(\"Root Mean Squared Error:\", rmse)\n",
    "print(\"R-squared:\", r2)"
   ]
  },
  {
   "cell_type": "code",
   "execution_count": 60,
   "id": "7ab3de93",
   "metadata": {},
   "outputs": [],
   "source": [
    "# Define hyperparameter grid\n",
    "param_grid = {\n",
    "    'n_estimators': [100, 200, 300],\n",
    "    'max_depth': [None, 5, 10, 15],\n",
    "    'min_samples_split': [2, 5, 10],\n",
    "    'min_samples_leaf': [1, 2, 4],\n",
    "    'max_features': ['auto', 'sqrt']\n",
    "}"
   ]
  },
  {
   "cell_type": "code",
   "execution_count": 61,
   "id": "1d9ecd4a",
   "metadata": {},
   "outputs": [
    {
     "name": "stdout",
     "output_type": "stream",
     "text": [
      "Fitting 10 folds for each of 2 candidates, totalling 20 fits\n"
     ]
    },
    {
     "data": {
      "text/plain": [
       "RandomizedSearchCV(cv=10,\n",
       "                   estimator=RandomForestRegressor(max_depth=5,\n",
       "                                                   random_state=42),\n",
       "                   n_iter=2, n_jobs=-1,\n",
       "                   param_distributions={'max_depth': [None, 5, 10, 15],\n",
       "                                        'max_features': ['auto', 'sqrt'],\n",
       "                                        'min_samples_leaf': [1, 2, 4],\n",
       "                                        'min_samples_split': [2, 5, 10],\n",
       "                                        'n_estimators': [100, 200, 300]},\n",
       "                   random_state=42, verbose=2)"
      ]
     },
     "execution_count": 61,
     "metadata": {},
     "output_type": "execute_result"
    }
   ],
   "source": [
    "from sklearn.model_selection import RandomizedSearchCV\n",
    "# Create RandomizedSearchCV object\n",
    "random_search = RandomizedSearchCV(estimator=rf_regressor, param_distributions=param_grid, n_iter=2, cv=10, \n",
    "                                   verbose=2, random_state=42, n_jobs=-1)\n",
    "\n",
    "# Fit the model\n",
    "random_search.fit(X_train, y_train)"
   ]
  },
  {
   "cell_type": "code",
   "execution_count": 63,
   "id": "416a51ad",
   "metadata": {},
   "outputs": [
    {
     "name": "stdout",
     "output_type": "stream",
     "text": [
      "{'n_estimators': 300, 'min_samples_split': 10, 'min_samples_leaf': 2, 'max_features': 'auto', 'max_depth': 15}\n",
      "0.8157416713588684\n",
      "Mean Squared Error: 8648551.809248839\n",
      "R-squared after Tuning: 0.812086078445372\n"
     ]
    }
   ],
   "source": [
    "# Print the best parameters and score\n",
    "print(random_search.best_params_)\n",
    "print(random_search.best_score_)\n",
    "\n",
    "# Predict on test set\n",
    "y_p = random_search.predict(X_test)\n",
    "mse = mean_squared_error(y_test, y_p)\n",
    "print(\"Mean Squared Error:\", mse)\n",
    "\n",
    "# Calculate R-squared on test set\n",
    "r2 = r2_score(y_test, y_p)\n",
    "print(\"R-squared after Tuning:\", r2)"
   ]
  },
  {
   "cell_type": "code",
   "execution_count": 64,
   "id": "ffab0f03",
   "metadata": {},
   "outputs": [],
   "source": [
    "from sklearn.model_selection import cross_val_score"
   ]
  },
  {
   "cell_type": "code",
   "execution_count": 65,
   "id": "32943b5e",
   "metadata": {},
   "outputs": [
    {
     "name": "stdout",
     "output_type": "stream",
     "text": [
      "Mean Cross-Validation Score: 32391946.39943234\n"
     ]
    },
    {
     "data": {
      "text/plain": [
       "array([-53338766.97487912, -32245484.29360818, -27942513.36509506,\n",
       "       -26657624.79360401, -33823547.22441658, -27913858.07884851,\n",
       "       -25940268.93968358, -27385141.27477205, -31770337.74267093,\n",
       "       -36901921.30674537])"
      ]
     },
     "execution_count": 65,
     "metadata": {},
     "output_type": "execute_result"
    }
   ],
   "source": [
    "scores = cross_val_score(rf_regressor, X, y, cv=10, scoring='neg_mean_squared_error')\n",
    "print(\"Mean Cross-Validation Score:\", -scores.mean())\n",
    "scores"
   ]
  },
  {
   "cell_type": "markdown",
   "id": "72fedc41",
   "metadata": {},
   "source": [
    "# Linear Regression"
   ]
  },
  {
   "cell_type": "code",
   "execution_count": 66,
   "id": "f7a355d9",
   "metadata": {},
   "outputs": [
    {
     "name": "stdout",
     "output_type": "stream",
     "text": [
      "Mean Squared Error: 43722880.999196924\n"
     ]
    }
   ],
   "source": [
    "from sklearn.linear_model import LinearRegression\n",
    "model = LinearRegression()\n",
    "model.fit(X_train, y_train)\n",
    "predictions = model.predict(X_test)\n",
    "mse = mean_squared_error(y_test, predictions)\n",
    "print(\"Mean Squared Error:\", mse)"
   ]
  },
  {
   "cell_type": "code",
   "execution_count": null,
   "id": "981026cc",
   "metadata": {},
   "outputs": [],
   "source": []
  }
 ],
 "metadata": {
  "kernelspec": {
   "display_name": "Python 3",
   "language": "python",
   "name": "python3"
  },
  "language_info": {
   "codemirror_mode": {
    "name": "ipython",
    "version": 3
   },
   "file_extension": ".py",
   "mimetype": "text/x-python",
   "name": "python",
   "nbconvert_exporter": "python",
   "pygments_lexer": "ipython3",
   "version": "3.8.8"
  }
 },
 "nbformat": 4,
 "nbformat_minor": 5
}
